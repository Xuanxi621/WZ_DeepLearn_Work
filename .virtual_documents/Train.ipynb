%run ./Model.ipynb


models = {
    "BirdCNN": BirdCNN(num_classes=num_classes).to(device),
    "BirdCNN_Optimal": BirdCNN_Optimal(num_classes=num_classes).to(device),
    "BirdResNet": BirdResNet(num_classes=num_classes).to(device)
}

num_epochs = 80
early_stopping_patience = 5

results = {}

for name, model in models.items():
    print(f"\n================= 🚀 开始训练模型: {name} =================")
    optimizer = optim.AdamW(model.parameters(), lr=0.001, weight_decay=0.01)
    try:
        scheduler = optim.lr_scheduler.ReduceLROnPlateau(optimizer, mode='max', patience=3, factor=0.5, verbose=False)
    except TypeError:
        scheduler = optim.lr_scheduler.ReduceLROnPlateau(optimizer, mode='max', patience=3, factor=0.5)

    train_losses, train_accs, test_accs = [], [], []
    best_acc = 0
    best_epoch = 0
    patience_counter = 0
    start_time = time.time()

    for epoch in range(1, num_epochs + 1):
        epoch_start = time.time()
        train_loss, train_acc = train_one_epoch(model, device, train_loader, optimizer)
        test_loss, test_acc = evaluate(model, device, test_loader)
        scheduler.step(test_acc)

        train_losses.append(train_loss)
        train_accs.append(train_acc)
        test_accs.append(test_acc)

        # 检查是否有提升
        improved = test_acc > best_acc
        if improved:
            best_acc = test_acc
            best_epoch = epoch
            patience_counter = 0
            torch.save(model.state_dict(), f"{name}_best.pth")
        else:
            patience_counter += 1

        # 日志输出
        print(
            f"[{name}] Epoch {epoch:02d}/{num_epochs} | "
            f"TrainLoss={train_loss:.4f} | TestLoss={test_loss:.4f} | "
            f"TrainAcc={train_acc:.2f}% | TestAcc={test_acc:.2f}% | "
            f"BestAcc={best_acc:.2f}% (E{best_epoch})"
        )
        print(
            f" └─ LR={optimizer.param_groups[0]['lr']:.6f} | "
            f"Patience={patience_counter}/{early_stopping_patience} | "
            f"Time={time.time()-start_time:.2f}s | "
            f"{'✅ Improved & Saved' if improved else '⏸ No Improvement'}"
        )
        # 检查早停
        if patience_counter >= early_stopping_patience:
            print(f"\n⚠️ 早停触发：连续 {early_stopping_patience} 轮准确率未提升，停止训练。")
            break

    total_time = (time.time() - start_time) / 60
    print(f"🏁 模型 {name} 训练结束！最佳准确率: {best_acc:.2f}% (Epoch {best_epoch}) | 总耗时: {total_time:.2f} 分钟")

    results[name] = {
        "train_losses": train_losses,
        "train_accs": train_accs,
        "test_accs": test_accs,
        "best_acc": best_acc,
        "best_epoch": best_epoch
    }

print("\n✅ 所有模型训练完成！")


import matplotlib.pyplot as plt
import seaborn as sns
import pandas as pd
import numpy as np
from matplotlib.patheffects import withStroke

def plot_model_comparison_best_only(results, point_interval=5, smooth_window=3):
    sns.set_theme(style="whitegrid", context="talk")
    plt.rcParams['font.sans-serif'] = ['Microsoft YaHei', 'SimHei', 'Arial']
    plt.rcParams['axes.unicode_minus'] = False

    # ===== 数据整理 =====
    all_data = []
    for name, data in results.items():
        for epoch, (train_acc, test_acc, loss) in enumerate(
            zip(data["train_accs"], data["test_accs"], data["train_losses"]), 1
        ):
            all_data.append(["Train", name, epoch, train_acc, loss])
            all_data.append(["Test", name, epoch, test_acc, loss])
    df = pd.DataFrame(all_data, columns=["Phase", "Model", "Epoch", "Accuracy", "Loss"])

    # ===== 找出最优模型（测试集最高准确率） =====
    df_test = df[df["Phase"] == "Test"]
    best_idx = df_test["Accuracy"].idxmax()
    best_model = df_test.loc[best_idx, "Model"]
    best_acc = df_test.loc[best_idx, "Accuracy"]
    best_epoch = int(df_test.loc[best_idx, "Epoch"])

    print(f"🏆 最优模型: {best_model} | 测试集准确率 = {best_acc:.2f}% @ Epoch {best_epoch}")

    # ===== 绘图布局 =====
    fig = plt.figure(figsize=(14, 10), dpi=300)
    gs = fig.add_gridspec(2, 2, height_ratios=[1, 1.1])
    ax1 = fig.add_subplot(gs[0, 0])
    ax2 = fig.add_subplot(gs[0, 1])
    ax3 = fig.add_subplot(gs[1, :])
    palette = sns.color_palette("husl", len(results))

    def smooth(y):
        return pd.Series(y).rolling(smooth_window, min_periods=1).mean()

    # ===== 训练集准确率 =====
    for (name, group), color in zip(df[df["Phase"] == "Train"].groupby("Model"), palette):
        group["Accuracy_smooth"] = smooth(group["Accuracy"])
        sns.lineplot(data=group, x="Epoch", y="Accuracy_smooth",
                     label=name, linewidth=2.2, color=color, ax=ax1)
    ax1.set_title("训练集准确率对比", fontsize=15, weight="bold")
    ax1.set_xlabel("Epoch")
    ax1.set_ylabel("Accuracy (%)")
    ax1.legend(title="Model", loc="lower right", fontsize=8)
    ax1.set_facecolor("#fafafa")

    # ===== 测试集准确率（高亮最优模型） =====
    for (name, group), color in zip(df[df["Phase"] == "Test"].groupby("Model"), palette):
        group["Accuracy_smooth"] = smooth(group["Accuracy"])
        sns.lineplot(data=group, x="Epoch", y="Accuracy_smooth",
                     label=name, linewidth=2.2, color=color, ax=ax2)
        if name == best_model:
            ax2.scatter(best_epoch, best_acc, s=200, color=color, marker="*", edgecolor="black", linewidth=0.8, zorder=1)
            ax2.annotate(
                f"最优模型：{best_model}\nAcc={best_acc:.2f}%@E{best_epoch}",
                xy=(best_epoch, best_acc),
                xytext=(best_epoch - 8, best_acc - 3),
                fontsize=10, color=color, weight="bold",
                bbox=dict(boxstyle="round,pad=0.3", fc="white", ec=color, lw=1.2, alpha=0.9),
                arrowprops=dict(arrowstyle="->", lw=1, color=color, alpha=0.7)
            )

    ax2.set_title("测试集准确率对比", fontsize=15, weight="bold")
    ax2.set_xlabel("Epoch")
    ax2.set_ylabel("Accuracy (%)")
    ax2.legend(title="Model", loc="lower right", fontsize=8)
    ax2.set_facecolor("#fafafa")

    # ===== Loss 收敛趋势 =====
    for (name, group), color in zip(df[df["Phase"] == "Train"].groupby("Model"), palette):
        group["Loss_smooth"] = smooth(group["Loss"])
        sns.lineplot(data=group, x="Epoch", y="Loss_smooth",
                     label=name, linewidth=2.2, color=color, ax=ax3)
    ax3.set_title("Loss 收敛趋势", fontsize=16, weight="bold")
    ax3.set_xlabel("Epoch")
    ax3.set_ylabel("Loss 值")
    ax3.legend(title="Model", loc="upper right", fontsize=9)
    ax3.set_facecolor("#f7f7f7")

    # ===== 总标题 =====
    fig.suptitle("三种鸟类识别模型性能对比",
                 fontsize=18, weight="bold", y=0.98)
    plt.tight_layout(rect=[0, 0, 1, 0.96])
    plt.show()
plot_model_comparison_best_only(results)



